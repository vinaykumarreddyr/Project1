{
 "cells": [
  {
   "cell_type": "code",
   "execution_count": 7,
   "id": "21792e80",
   "metadata": {},
   "outputs": [],
   "source": [
    "import numpy as np\n",
    "import pandas as pd\n",
    "import matplotlib.pyplot as plt\n",
    "import seaborn as sns"
   ]
  },
  {
   "cell_type": "code",
   "execution_count": 8,
   "id": "9101eeec",
   "metadata": {},
   "outputs": [
    {
     "name": "stderr",
     "output_type": "stream",
     "text": [
      "/tmp/ipykernel_10770/937928738.py:1: DtypeWarning: Columns (26) have mixed types. Specify dtype option on import or set low_memory=False.\n",
      "  df=pd.read_csv(\"/home/vinay/Videos/powerbi/Credit_Score (1)/credit_score.csv\")\n"
     ]
    }
   ],
   "source": [
    "df=pd.read_csv(\"/home/vinay/Videos/powerbi/Credit_Score (1)/credit_score.csv\")\n",
    "df=df.drop(columns=[\"ID\",\"Customer_ID\",\"Name\",\"SSN\",\"Type_of_Loan\",\"Credit_History_Age\"])"
   ]
  },
  {
   "cell_type": "code",
   "execution_count": 9,
   "id": "c394490e",
   "metadata": {},
   "outputs": [
    {
     "name": "stdout",
     "output_type": "stream",
     "text": [
      "<class 'pandas.core.frame.DataFrame'>\n",
      "RangeIndex: 100000 entries, 0 to 99999\n",
      "Data columns (total 22 columns):\n",
      " #   Column                    Non-Null Count   Dtype  \n",
      "---  ------                    --------------   -----  \n",
      " 0   Month                     100000 non-null  object \n",
      " 1   Age                       100000 non-null  object \n",
      " 2   Occupation                100000 non-null  object \n",
      " 3   Annual_Income             100000 non-null  object \n",
      " 4   Monthly_Inhand_Salary     84998 non-null   float64\n",
      " 5   Num_Bank_Accounts         100000 non-null  int64  \n",
      " 6   Num_Credit_Card           100000 non-null  int64  \n",
      " 7   Interest_Rate             100000 non-null  int64  \n",
      " 8   Num_of_Loan               100000 non-null  object \n",
      " 9   Delay_from_due_date       100000 non-null  int64  \n",
      " 10  Num_of_Delayed_Payment    92998 non-null   object \n",
      " 11  Changed_Credit_Limit      100000 non-null  object \n",
      " 12  Num_Credit_Inquiries      98035 non-null   float64\n",
      " 13  Credit_Mix                100000 non-null  object \n",
      " 14  Outstanding_Debt          100000 non-null  object \n",
      " 15  Credit_Utilization_Ratio  100000 non-null  float64\n",
      " 16  Payment_of_Min_Amount     100000 non-null  object \n",
      " 17  Total_EMI_per_month       100000 non-null  float64\n",
      " 18  Amount_invested_monthly   95521 non-null   object \n",
      " 19  Payment_Behaviour         100000 non-null  object \n",
      " 20  Monthly_Balance           98800 non-null   object \n",
      " 21  Credit_Score              100000 non-null  object \n",
      "dtypes: float64(4), int64(4), object(14)\n",
      "memory usage: 16.8+ MB\n"
     ]
    },
    {
     "data": {
      "text/html": [
       "<div>\n",
       "<style scoped>\n",
       "    .dataframe tbody tr th:only-of-type {\n",
       "        vertical-align: middle;\n",
       "    }\n",
       "\n",
       "    .dataframe tbody tr th {\n",
       "        vertical-align: top;\n",
       "    }\n",
       "\n",
       "    .dataframe thead th {\n",
       "        text-align: right;\n",
       "    }\n",
       "</style>\n",
       "<table border=\"1\" class=\"dataframe\">\n",
       "  <thead>\n",
       "    <tr style=\"text-align: right;\">\n",
       "      <th></th>\n",
       "      <th>Monthly_Inhand_Salary</th>\n",
       "      <th>Num_Bank_Accounts</th>\n",
       "      <th>Num_Credit_Card</th>\n",
       "      <th>Interest_Rate</th>\n",
       "      <th>Delay_from_due_date</th>\n",
       "      <th>Num_Credit_Inquiries</th>\n",
       "      <th>Credit_Utilization_Ratio</th>\n",
       "      <th>Total_EMI_per_month</th>\n",
       "    </tr>\n",
       "  </thead>\n",
       "  <tbody>\n",
       "    <tr>\n",
       "      <th>count</th>\n",
       "      <td>84998.000000</td>\n",
       "      <td>100000.000000</td>\n",
       "      <td>100000.00000</td>\n",
       "      <td>100000.000000</td>\n",
       "      <td>100000.000000</td>\n",
       "      <td>98035.000000</td>\n",
       "      <td>100000.000000</td>\n",
       "      <td>100000.000000</td>\n",
       "    </tr>\n",
       "    <tr>\n",
       "      <th>mean</th>\n",
       "      <td>4194.170850</td>\n",
       "      <td>17.091280</td>\n",
       "      <td>22.47443</td>\n",
       "      <td>72.466040</td>\n",
       "      <td>21.068780</td>\n",
       "      <td>27.754251</td>\n",
       "      <td>32.285173</td>\n",
       "      <td>1403.118217</td>\n",
       "    </tr>\n",
       "    <tr>\n",
       "      <th>std</th>\n",
       "      <td>3183.686167</td>\n",
       "      <td>117.404834</td>\n",
       "      <td>129.05741</td>\n",
       "      <td>466.422621</td>\n",
       "      <td>14.860104</td>\n",
       "      <td>193.177339</td>\n",
       "      <td>5.116875</td>\n",
       "      <td>8306.041270</td>\n",
       "    </tr>\n",
       "    <tr>\n",
       "      <th>min</th>\n",
       "      <td>303.645417</td>\n",
       "      <td>-1.000000</td>\n",
       "      <td>0.00000</td>\n",
       "      <td>1.000000</td>\n",
       "      <td>-5.000000</td>\n",
       "      <td>0.000000</td>\n",
       "      <td>20.000000</td>\n",
       "      <td>0.000000</td>\n",
       "    </tr>\n",
       "    <tr>\n",
       "      <th>25%</th>\n",
       "      <td>1625.568229</td>\n",
       "      <td>3.000000</td>\n",
       "      <td>4.00000</td>\n",
       "      <td>8.000000</td>\n",
       "      <td>10.000000</td>\n",
       "      <td>3.000000</td>\n",
       "      <td>28.052567</td>\n",
       "      <td>30.306660</td>\n",
       "    </tr>\n",
       "    <tr>\n",
       "      <th>50%</th>\n",
       "      <td>3093.745000</td>\n",
       "      <td>6.000000</td>\n",
       "      <td>5.00000</td>\n",
       "      <td>13.000000</td>\n",
       "      <td>18.000000</td>\n",
       "      <td>6.000000</td>\n",
       "      <td>32.305784</td>\n",
       "      <td>69.249473</td>\n",
       "    </tr>\n",
       "    <tr>\n",
       "      <th>75%</th>\n",
       "      <td>5957.448333</td>\n",
       "      <td>7.000000</td>\n",
       "      <td>7.00000</td>\n",
       "      <td>20.000000</td>\n",
       "      <td>28.000000</td>\n",
       "      <td>9.000000</td>\n",
       "      <td>36.496663</td>\n",
       "      <td>161.224249</td>\n",
       "    </tr>\n",
       "    <tr>\n",
       "      <th>max</th>\n",
       "      <td>15204.633333</td>\n",
       "      <td>1798.000000</td>\n",
       "      <td>1499.00000</td>\n",
       "      <td>5797.000000</td>\n",
       "      <td>67.000000</td>\n",
       "      <td>2597.000000</td>\n",
       "      <td>50.000000</td>\n",
       "      <td>82331.000000</td>\n",
       "    </tr>\n",
       "  </tbody>\n",
       "</table>\n",
       "</div>"
      ],
      "text/plain": [
       "       Monthly_Inhand_Salary  Num_Bank_Accounts  Num_Credit_Card  \\\n",
       "count           84998.000000      100000.000000     100000.00000   \n",
       "mean             4194.170850          17.091280         22.47443   \n",
       "std              3183.686167         117.404834        129.05741   \n",
       "min               303.645417          -1.000000          0.00000   \n",
       "25%              1625.568229           3.000000          4.00000   \n",
       "50%              3093.745000           6.000000          5.00000   \n",
       "75%              5957.448333           7.000000          7.00000   \n",
       "max             15204.633333        1798.000000       1499.00000   \n",
       "\n",
       "       Interest_Rate  Delay_from_due_date  Num_Credit_Inquiries  \\\n",
       "count  100000.000000        100000.000000          98035.000000   \n",
       "mean       72.466040            21.068780             27.754251   \n",
       "std       466.422621            14.860104            193.177339   \n",
       "min         1.000000            -5.000000              0.000000   \n",
       "25%         8.000000            10.000000              3.000000   \n",
       "50%        13.000000            18.000000              6.000000   \n",
       "75%        20.000000            28.000000              9.000000   \n",
       "max      5797.000000            67.000000           2597.000000   \n",
       "\n",
       "       Credit_Utilization_Ratio  Total_EMI_per_month  \n",
       "count             100000.000000        100000.000000  \n",
       "mean                  32.285173          1403.118217  \n",
       "std                    5.116875          8306.041270  \n",
       "min                   20.000000             0.000000  \n",
       "25%                   28.052567            30.306660  \n",
       "50%                   32.305784            69.249473  \n",
       "75%                   36.496663           161.224249  \n",
       "max                   50.000000         82331.000000  "
      ]
     },
     "execution_count": 9,
     "metadata": {},
     "output_type": "execute_result"
    }
   ],
   "source": [
    "df.shape\n",
    "df.info()\n",
    "df.describe()"
   ]
  },
  {
   "cell_type": "code",
   "execution_count": 10,
   "id": "6dc961b2",
   "metadata": {},
   "outputs": [
    {
     "data": {
      "text/plain": [
       "Month                           0\n",
       "Age                             0\n",
       "Occupation                      0\n",
       "Annual_Income                   0\n",
       "Monthly_Inhand_Salary       15002\n",
       "Num_Bank_Accounts               0\n",
       "Num_Credit_Card                 0\n",
       "Interest_Rate                   0\n",
       "Num_of_Loan                     0\n",
       "Delay_from_due_date             0\n",
       "Num_of_Delayed_Payment       7002\n",
       "Changed_Credit_Limit            0\n",
       "Num_Credit_Inquiries         1965\n",
       "Credit_Mix                      0\n",
       "Outstanding_Debt                0\n",
       "Credit_Utilization_Ratio        0\n",
       "Payment_of_Min_Amount           0\n",
       "Total_EMI_per_month             0\n",
       "Amount_invested_monthly      4479\n",
       "Payment_Behaviour               0\n",
       "Monthly_Balance              1200\n",
       "Credit_Score                    0\n",
       "dtype: int64"
      ]
     },
     "execution_count": 10,
     "metadata": {},
     "output_type": "execute_result"
    }
   ],
   "source": [
    "data.isnull().sum()"
   ]
  },
  {
   "cell_type": "code",
   "execution_count": 11,
   "id": "ff625e8b",
   "metadata": {},
   "outputs": [],
   "source": [
    "df[\"Age\"]=df[\"Age\"].str.replace(\"_\",\"\")\n",
    "df[\"Age\"]=df[\"Age\"].astype(int)\n",
    "df[\"Occupation\"]=df[\"Occupation\"].replace(\" \",np.nan)\n",
    "df[\"Annual_Income\"]=df[\"Annual_Income\"].str.replace(\"_\",\"\")\n",
    "df[\"Annual_Income\"]=df[\"Annual_Income\"].astype(float)\n",
    "df[\"Num_of_Loan\"]=df[\"Num_of_Loan\"].str.replace(\"_\",\"\")\n",
    "df[\"Num_of_Loan\"]=df[\"Num_of_Loan\"].astype(int)\n",
    "df[\"Num_of_Delayed_Payment\"]=df[\"Num_of_Delayed_Payment\"].str.replace(\"_\",\"\")\n",
    "df[\"Num_of_Delayed_Payment\"]=df[\"Num_of_Delayed_Payment\"].astype(float)\n",
    "df[\"Credit_Score\"]=df[\"Credit_Score\"].replace([\"Poor\",\"Standard\", \"Good\"], [0,1,2])\n",
    "df[\"Monthly_Balance\"]=df[\"Monthly_Balance\"].str.replace(\"_\",\"\")\n",
    "df[\"Monthly_Balance\"]=df[\"Monthly_Balance\"].astype(float)\n",
    "df[\"Payment_Behaviour\"]=df[\"Payment_Behaviour\"].replace(\"!@9#%8\",np.nan)\n",
    "df[\"Amount_invested_monthly\"]=df[\"Amount_invested_monthly\"].str.replace(\"_\",\"\")\n",
    "df[\"Amount_invested_monthly\"]=df[\"Amount_invested_monthly\"].astype(float)\n",
    "df[\"Payment_of_Min_Amount\"]=df[\"Payment_of_Min_Amount\"].replace(\"NM\", \"No\")\n",
    "df[\"Payment_of_Min_Amount\"]=df[\"Payment_of_Min_Amount\"].replace([\"Yes\", \"No\"], [1,0])\n",
    "df[\"Outstanding_Debt\"]= df[\"Outstanding_Debt\"].str.replace(\"_\",\"\")\n",
    "df[\"Outstanding_Debt\"]=df[\"Outstanding_Debt\"].astype(float)\n",
    "df[\"Credit_Mix\"]=df[\"Credit_Mix\"].replace(\"_\",np.nan)\n",
    "df[\"Credit_Mix\"]=df[\"Credit_Mix\"].replace([\"Standard\", \"Good\",\"Bad\"], [1,2,0])\n",
    "df[\"Changed_Credit_Limit\"]= df[\"Changed_Credit_Limit\"].replace(\"_\",np.nan)\n",
    "df[\"Changed_Credit_Limit\"]=df[\"Changed_Credit_Limit\"].astype(float)"
   ]
  },
  {
   "cell_type": "code",
   "execution_count": 12,
   "id": "7b61ea0f",
   "metadata": {},
   "outputs": [
    {
     "name": "stdout",
     "output_type": "stream",
     "text": [
      "<class 'pandas.core.frame.DataFrame'>\n",
      "RangeIndex: 100000 entries, 0 to 99999\n",
      "Data columns (total 22 columns):\n",
      " #   Column                    Non-Null Count   Dtype  \n",
      "---  ------                    --------------   -----  \n",
      " 0   Month                     100000 non-null  object \n",
      " 1   Age                       100000 non-null  int64  \n",
      " 2   Occupation                100000 non-null  object \n",
      " 3   Annual_Income             100000 non-null  float64\n",
      " 4   Monthly_Inhand_Salary     84998 non-null   float64\n",
      " 5   Num_Bank_Accounts         100000 non-null  int64  \n",
      " 6   Num_Credit_Card           100000 non-null  int64  \n",
      " 7   Interest_Rate             100000 non-null  int64  \n",
      " 8   Num_of_Loan               100000 non-null  int64  \n",
      " 9   Delay_from_due_date       100000 non-null  int64  \n",
      " 10  Num_of_Delayed_Payment    92998 non-null   float64\n",
      " 11  Changed_Credit_Limit      97909 non-null   float64\n",
      " 12  Num_Credit_Inquiries      98035 non-null   float64\n",
      " 13  Credit_Mix                79805 non-null   float64\n",
      " 14  Outstanding_Debt          100000 non-null  float64\n",
      " 15  Credit_Utilization_Ratio  100000 non-null  float64\n",
      " 16  Payment_of_Min_Amount     100000 non-null  int64  \n",
      " 17  Total_EMI_per_month       100000 non-null  float64\n",
      " 18  Amount_invested_monthly   95521 non-null   float64\n",
      " 19  Payment_Behaviour         92400 non-null   object \n",
      " 20  Monthly_Balance           97132 non-null   float64\n",
      " 21  Credit_Score              100000 non-null  int64  \n",
      "dtypes: float64(11), int64(8), object(3)\n",
      "memory usage: 16.8+ MB\n"
     ]
    }
   ],
   "source": [
    "df.info()"
   ]
  },
  {
   "cell_type": "code",
   "execution_count": 14,
   "id": "9c6c04e2",
   "metadata": {},
   "outputs": [
    {
     "data": {
      "text/plain": [
       "Month                       0\n",
       "Age                         0\n",
       "Occupation                  0\n",
       "Annual_Income               0\n",
       "Monthly_Inhand_Salary       0\n",
       "Num_Bank_Accounts           0\n",
       "Num_Credit_Card             0\n",
       "Interest_Rate               0\n",
       "Num_of_Loan                 0\n",
       "Delay_from_due_date         0\n",
       "Num_of_Delayed_Payment      0\n",
       "Changed_Credit_Limit        0\n",
       "Num_Credit_Inquiries        0\n",
       "Credit_Mix                  0\n",
       "Outstanding_Debt            0\n",
       "Credit_Utilization_Ratio    0\n",
       "Payment_of_Min_Amount       0\n",
       "Total_EMI_per_month         0\n",
       "Amount_invested_monthly     0\n",
       "Payment_Behaviour           0\n",
       "Monthly_Balance             0\n",
       "Credit_Score                0\n",
       "dtype: int64"
      ]
     },
     "execution_count": 14,
     "metadata": {},
     "output_type": "execute_result"
    }
   ],
   "source": [
    "df.isnull().sum()\n",
    "df=df.fillna(method=\"ffill\")\n",
    "df=df.fillna(method=\"bfill\")\n",
    "df.isnull().sum()"
   ]
  },
  {
   "cell_type": "code",
   "execution_count": 15,
   "id": "0802ba5f",
   "metadata": {},
   "outputs": [
    {
     "name": "stderr",
     "output_type": "stream",
     "text": [
      "/home/vinay/anaconda3/lib/python3.9/site-packages/seaborn/_decorators.py:36: FutureWarning: Pass the following variable as a keyword arg: x. From version 0.12, the only valid positional argument will be `data`, and passing other arguments without an explicit keyword will result in an error or misinterpretation.\n",
      "  warnings.warn(\n"
     ]
    },
    {
     "data": {
      "image/png": "[encoded data removed]",
      "text/plain": [
       "<Figure size 432x288 with 1 Axes>"
      ]
     },
     "metadata": {
      "needs_background": "light"
     },
     "output_type": "display_data"
    }
   ],
   "source": [
    "sns.boxplot(df[\"Age\"])\n",
    "plt.xlabel(\"Age\")\n",
    "plt.ylabel(\"count\")\n",
    "plt.show()"
   ]
  },
  {
   "cell_type": "code",
   "execution_count": 17,
   "id": "6a2d438a",
   "metadata": {},
   "outputs": [
    {
     "name": "stderr",
     "output_type": "stream",
     "text": [
      "/home/vinay/anaconda3/lib/python3.9/site-packages/seaborn/_decorators.py:36: FutureWarning: Pass the following variable as a keyword arg: x. From version 0.12, the only valid positional argument will be `data`, and passing other arguments without an explicit keyword will result in an error or misinterpretation.\n",
      "  warnings.warn(\n"
     ]
    },
    {
     "data": {
      "text/plain": [
       "<AxesSubplot:xlabel='Age'>"
      ]
     },
     "execution_count": 17,
     "metadata": {},
     "output_type": "execute_result"
    },
    {
     "data": {
      "image/png": "[encoded data removed]",
      "text/plain": [
       "<Figure size 432x288 with 1 Axes>"
      ]
     },
     "metadata": {
      "needs_background": "light"
     },
     "output_type": "display_data"
    }
   ],
   "source": [
    "col_names=[\"Age\"]\n",
    "Q1=df.Age.quantile(0.25)\n",
    "Q3=df.Age.quantile(0.75)\n",
    "IQR=Q3-Q1\n",
    "data=df[(df.Age>=Q1-1.5*IQR)&(df.Age<=Q3+1.5*IQR)]\n",
    "sns.boxplot(data[\"Age\"])"
   ]
  },
  {
   "cell_type": "code",
   "execution_count": 18,
   "id": "66c8b133",
   "metadata": {},
   "outputs": [
    {
     "name": "stdout",
     "output_type": "stream",
     "text": [
      "<class 'pandas.core.frame.DataFrame'>\n",
      "RangeIndex: 100000 entries, 0 to 99999\n",
      "Data columns (total 22 columns):\n",
      " #   Column                    Non-Null Count   Dtype  \n",
      "---  ------                    --------------   -----  \n",
      " 0   Month                     100000 non-null  int64  \n",
      " 1   Age                       100000 non-null  int64  \n",
      " 2   Occupation                100000 non-null  int64  \n",
      " 3   Annual_Income             100000 non-null  float64\n",
      " 4   Monthly_Inhand_Salary     100000 non-null  float64\n",
      " 5   Num_Bank_Accounts         100000 non-null  int64  \n",
      " 6   Num_Credit_Card           100000 non-null  int64  \n",
      " 7   Interest_Rate             100000 non-null  int64  \n",
      " 8   Num_of_Loan               100000 non-null  int64  \n",
      " 9   Delay_from_due_date       100000 non-null  int64  \n",
      " 10  Num_of_Delayed_Payment    100000 non-null  float64\n",
      " 11  Changed_Credit_Limit      100000 non-null  float64\n",
      " 12  Num_Credit_Inquiries      100000 non-null  float64\n",
      " 13  Credit_Mix                100000 non-null  float64\n",
      " 14  Outstanding_Debt          100000 non-null  float64\n",
      " 15  Credit_Utilization_Ratio  100000 non-null  float64\n",
      " 16  Payment_of_Min_Amount     100000 non-null  int64  \n",
      " 17  Total_EMI_per_month       100000 non-null  float64\n",
      " 18  Amount_invested_monthly   100000 non-null  float64\n",
      " 19  Payment_Behaviour         100000 non-null  int64  \n",
      " 20  Monthly_Balance           100000 non-null  float64\n",
      " 21  Credit_Score              100000 non-null  int64  \n",
      "dtypes: float64(11), int64(11)\n",
      "memory usage: 16.8 MB\n"
     ]
    }
   ],
   "source": [
    "from sklearn.preprocessing import LabelEncoder\n",
    "le=LabelEncoder()\n",
    "df[\"Month\"]=le.fit_transform(df[\"Month\"])\n",
    "df[\"Occupation\"]=le.fit_transform(df[\"Occupation\"])\n",
    "df[\"Payment_Behaviour\"]=le.fit_transform(df[\"Payment_Behaviour\"])\n",
    "df.info()"
   ]
  },
  {
   "cell_type": "code",
   "execution_count": 22,
   "id": "7363cdf7",
   "metadata": {},
   "outputs": [
    {
     "name": "stdout",
     "output_type": "stream",
     "text": [
      "                     feature       VIF\n",
      "0                      Month  0.300012\n",
      "1                        Age  0.974661\n",
      "2                 Occupation  0.275594\n",
      "3              Annual_Income  0.985001\n",
      "4      Monthly_Inhand_Salary  0.365970\n",
      "5          Num_Bank_Accounts  0.979247\n",
      "6            Num_Credit_Card  0.970567\n",
      "7              Interest_Rate  0.976430\n",
      "8                Num_of_Loan  0.997697\n",
      "9        Delay_from_due_date  0.332213\n",
      "10    Num_of_Delayed_Payment  0.981707\n",
      "11      Changed_Credit_Limit  0.299307\n",
      "12      Num_Credit_Inquiries  0.979793\n",
      "13                Credit_Mix  0.321474\n",
      "14          Outstanding_Debt  0.396141\n",
      "15  Credit_Utilization_Ratio  0.024506\n",
      "16     Payment_of_Min_Amount  0.476749\n",
      "17       Total_EMI_per_month  0.972258\n",
      "18   Amount_invested_monthly  0.911321\n",
      "19         Payment_Behaviour  0.310525\n",
      "20           Monthly_Balance  1.000208\n"
     ]
    }
   ],
   "source": [
    "from statsmodels.stats.outliers_influence import variance_inflation_factor \n",
    "col_list = []\n",
    "for col in df.columns:\n",
    "    if ((df[col].dtype != 'object') & (col != 'Credit_Score') ): col_list.append(col)\n",
    "X = df[col_list]\n",
    "vif_data = pd.DataFrame()\n",
    "vif_data[\"feature\"] =X.columns\n",
    "vif_data[\"VIF\"] = [variance_inflation_factor(X.values, i) for i in range(len(X.columns))]\n",
    "print(vif_data)"
   ]
  },
  {
   "cell_type": "code",
   "execution_count": 26,
   "id": "49108069",
   "metadata": {},
   "outputs": [
    {
     "data": {
      "text/html": [
       "<div>\n",
       "<style scoped>\n",
       "    .dataframe tbody tr th:only-of-type {\n",
       "        vertical-align: middle;\n",
       "    }\n",
       "\n",
       "    .dataframe tbody tr th {\n",
       "        vertical-align: top;\n",
       "    }\n",
       "\n",
       "    .dataframe thead th {\n",
       "        text-align: right;\n",
       "    }\n",
       "</style>\n",
       "<table border=\"1\" class=\"dataframe\">\n",
       "  <thead>\n",
       "    <tr style=\"text-align: right;\">\n",
       "      <th></th>\n",
       "      <th>actual_value</th>\n",
       "      <th>predicted_value</th>\n",
       "    </tr>\n",
       "  </thead>\n",
       "  <tbody>\n",
       "    <tr>\n",
       "      <th>75721</th>\n",
       "      <td>2</td>\n",
       "      <td>2</td>\n",
       "    </tr>\n",
       "    <tr>\n",
       "      <th>80184</th>\n",
       "      <td>0</td>\n",
       "      <td>0</td>\n",
       "    </tr>\n",
       "    <tr>\n",
       "      <th>19864</th>\n",
       "      <td>2</td>\n",
       "      <td>2</td>\n",
       "    </tr>\n",
       "    <tr>\n",
       "      <th>76699</th>\n",
       "      <td>0</td>\n",
       "      <td>0</td>\n",
       "    </tr>\n",
       "    <tr>\n",
       "      <th>92991</th>\n",
       "      <td>2</td>\n",
       "      <td>2</td>\n",
       "    </tr>\n",
       "    <tr>\n",
       "      <th>...</th>\n",
       "      <td>...</td>\n",
       "      <td>...</td>\n",
       "    </tr>\n",
       "    <tr>\n",
       "      <th>32595</th>\n",
       "      <td>1</td>\n",
       "      <td>1</td>\n",
       "    </tr>\n",
       "    <tr>\n",
       "      <th>29313</th>\n",
       "      <td>1</td>\n",
       "      <td>1</td>\n",
       "    </tr>\n",
       "    <tr>\n",
       "      <th>37862</th>\n",
       "      <td>0</td>\n",
       "      <td>1</td>\n",
       "    </tr>\n",
       "    <tr>\n",
       "      <th>53421</th>\n",
       "      <td>1</td>\n",
       "      <td>1</td>\n",
       "    </tr>\n",
       "    <tr>\n",
       "      <th>42410</th>\n",
       "      <td>1</td>\n",
       "      <td>1</td>\n",
       "    </tr>\n",
       "  </tbody>\n",
       "</table>\n",
       "<p>20000 rows × 2 columns</p>\n",
       "</div>"
      ],
      "text/plain": [
       "       actual_value  predicted_value\n",
       "75721             2                2\n",
       "80184             0                0\n",
       "19864             2                2\n",
       "76699             0                0\n",
       "92991             2                2\n",
       "...             ...              ...\n",
       "32595             1                1\n",
       "29313             1                1\n",
       "37862             0                1\n",
       "53421             1                1\n",
       "42410             1                1\n",
       "\n",
       "[20000 rows x 2 columns]"
      ]
     },
     "execution_count": 26,
     "metadata": {},
     "output_type": "execute_result"
    }
   ],
   "source": [
    "X=df.drop(columns=[\"Credit_Score\"])\n",
    "y=df[\"Credit_Score\"]\n",
    "from sklearn.model_selection import train_test_split\n",
    "x_train,x_test,y_train,y_test =train_test_split(X,y,test_size=0.2,random_state=42)\n",
    "from sklearn.preprocessing import StandardScaler\n",
    "sc=StandardScaler()\n",
    "x_train= sc.fit_transform(x_train)\n",
    "x_test= sc.transform(x_test)\n",
    "from sklearn.linear_model import LogisticRegression\n",
    "lr=LogisticRegression()\n",
    "lr.fit(x_train,y_train)\n",
    "y_pred=lr.predict(x_test)\n",
    "from sklearn.metrics import accuracy_score\n",
    "pd.DataFrame({\"actual_value\":y_test,\"predicted_value\":y_pred})"
   ]
  },
  {
   "cell_type": "code",
   "execution_count": 29,
   "id": "aedca343",
   "metadata": {},
   "outputs": [
    {
     "data": {
      "text/plain": [
       "0.79645"
      ]
     },
     "execution_count": 29,
     "metadata": {},
     "output_type": "execute_result"
    }
   ],
   "source": [
    "accuracy_score(y_test,y_pred)"
   ]
  },
  {
   "cell_type": "code",
   "execution_count": 28,
   "id": "103406a9",
   "metadata": {},
   "outputs": [
    {
     "data": {
      "text/plain": [
       "0.79645"
      ]
     },
     "execution_count": 28,
     "metadata": {},
     "output_type": "execute_result"
    }
   ],
   "source": [
    "from sklearn.ensemble import RandomForestClassifier\n",
    "rfc=RandomForestClassifier()\n",
    "rfc.fit(x_train,y_train)\n",
    "y_pred=rfc.predict(x_test)\n",
    "accuracy_score(y_test,y_pred)"
   ]
  }
 ],
 "metadata": {
  "kernelspec": {
   "display_name": "Python 3 (ipykernel)",
   "language": "python",
   "name": "python3"
  },
  "language_info": {
   "codemirror_mode": {
    "name": "ipython",
    "version": 3
   },
   "file_extension": ".py",
   "mimetype": "text/x-python",
   "name": "python",
   "nbconvert_exporter": "python",
   "pygments_lexer": "ipython3",
   "version": "3.9.12"
  }
 },
 "nbformat": 4,
 "nbformat_minor": 5
}
